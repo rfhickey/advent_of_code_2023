{
 "cells": [
  {
   "cell_type": "code",
   "execution_count": null,
   "metadata": {},
   "outputs": [],
   "source": [
    "import pandas as pd\n",
    "import re"
   ]
  },
  {
   "cell_type": "code",
   "execution_count": null,
   "metadata": {},
   "outputs": [],
   "source": [
    "import pandas as pd\n",
    "\n",
    "def parse_line_grouped(line):\n",
    "    game_data = line.strip().split(': ')\n",
    "    game_number = game_data[0]\n",
    "    color_groups = game_data[1].split('; ')\n",
    "    \n",
    "    parsed_data = []\n",
    "    for i, group in enumerate(color_groups):\n",
    "        colors = group.split(', ')\n",
    "        group_data = {'game': game_number, 'group': i + 1}\n",
    "        for color in colors:\n",
    "            count, color_name = color.split(' ')\n",
    "            group_data[color_name] = int(count)\n",
    "        parsed_data.append(group_data)\n",
    "    \n",
    "    return parsed_data\n",
    "\n",
    "file_path = 'input_day2.txt' \n",
    "\n",
    "parsed_lines_grouped = []\n",
    "with open(file_path, 'r') as file:\n",
    "    for line in file:\n",
    "        parsed_lines_grouped.extend(parse_line_grouped(line))\n",
    "\n",
    "df_grouped = pd.DataFrame(parsed_lines_grouped)\n",
    "\n",
    "print(df_grouped.head(25))\n"
   ]
  },
  {
   "cell_type": "code",
   "execution_count": null,
   "metadata": {},
   "outputs": [],
   "source": [
    "df_grouped.fillna(0, inplace=True)\n",
    "\n",
    "games_to_remove = df_grouped[~((df_grouped['red'] < 13) & \n",
    "                               (df_grouped['green'] < 14) & \n",
    "                               (df_grouped['blue'] < 15))]['game'].unique()\n",
    "\n",
    "filtered_df = df_grouped[~df_grouped['game'].isin(games_to_remove)]\n",
    "\n",
    "filtered_df.head(50)"
   ]
  },
  {
   "cell_type": "code",
   "execution_count": null,
   "metadata": {},
   "outputs": [],
   "source": [
    "df_unique = filtered_df.drop_duplicates(subset='game').copy()\n",
    "\n",
    "df_unique['game_number'] = df_unique['game'].str.extract('(\\d+)').astype(int)\n",
    "\n",
    "df_unique"
   ]
  },
  {
   "cell_type": "code",
   "execution_count": null,
   "metadata": {},
   "outputs": [],
   "source": [
    "df_unique['game_number'] = pd.to_numeric(df_unique['game_number'], errors='coerce')\n",
    "total_sum = df_unique['game_number'].sum()\n",
    "total_sum"
   ]
  },
  {
   "cell_type": "markdown",
   "metadata": {},
   "source": [
    "**Part 2**"
   ]
  },
  {
   "cell_type": "code",
   "execution_count": null,
   "metadata": {},
   "outputs": [],
   "source": [
    "import pandas as pd\n",
    "import re"
   ]
  },
  {
   "cell_type": "code",
   "execution_count": null,
   "metadata": {},
   "outputs": [],
   "source": [
    "import pandas as pd\n",
    "\n",
    "def parse_line_grouped(line):\n",
    "    game_data = line.strip().split(': ')\n",
    "    game_number = game_data[0]\n",
    "    color_groups = game_data[1].split('; ')\n",
    "    \n",
    "    parsed_data = []\n",
    "    for i, group in enumerate(color_groups):\n",
    "        colors = group.split(', ')\n",
    "        group_data = {'game': game_number, 'group': i + 1}\n",
    "        for color in colors:\n",
    "            count, color_name = color.split(' ')\n",
    "            group_data[color_name] = int(count)\n",
    "        parsed_data.append(group_data)\n",
    "    \n",
    "    return parsed_data\n",
    "\n",
    "file_path = 'input_day2.txt'\n",
    "\n",
    "parsed_lines_grouped = []\n",
    "with open(file_path, 'r') as file:\n",
    "    for line in file:\n",
    "        parsed_lines_grouped.extend(parse_line_grouped(line))\n",
    "\n",
    "df_grouped2 = pd.DataFrame(parsed_lines_grouped)\n",
    "print(df_grouped2.head(25))"
   ]
  },
  {
   "cell_type": "code",
   "execution_count": null,
   "metadata": {},
   "outputs": [],
   "source": [
    "df_grouped2.fillna(0, inplace=True)\n",
    "min_values_df = df_grouped2.groupby('game').agg({'green': 'max', 'blue': 'max', 'red': 'max'}).reset_index()\n",
    "min_values_df.head(35)"
   ]
  },
  {
   "cell_type": "code",
   "execution_count": null,
   "metadata": {},
   "outputs": [],
   "source": [
    "min_values_df['power'] = min_values_df['green'] * min_values_df['blue'] * min_values_df['red']\n",
    "min_values_df.head(35)"
   ]
  },
  {
   "cell_type": "code",
   "execution_count": null,
   "metadata": {},
   "outputs": [],
   "source": [
    "\n",
    "total_power = min_values_df['power'].sum()\n",
    "total_power"
   ]
  }
 ],
 "metadata": {
  "kernelspec": {
   "display_name": "data_sci_1",
   "language": "python",
   "name": "python3"
  },
  "language_info": {
   "codemirror_mode": {
    "name": "ipython",
    "version": 3
   },
   "file_extension": ".py",
   "mimetype": "text/x-python",
   "name": "python",
   "nbconvert_exporter": "python",
   "pygments_lexer": "ipython3",
   "version": "3.11.5"
  }
 },
 "nbformat": 4,
 "nbformat_minor": 2
}
