{
 "cells": [
  {
   "cell_type": "code",
   "execution_count": 1,
   "metadata": {},
   "outputs": [],
   "source": [
    "import pandas as pd\n",
    "import re"
   ]
  },
  {
   "cell_type": "markdown",
   "metadata": {},
   "source": [
    "**PART 1**"
   ]
  },
  {
   "cell_type": "code",
   "execution_count": 2,
   "metadata": {},
   "outputs": [
    {
     "name": "stdout",
     "output_type": "stream",
     "text": [
      "                          calibration_value\n",
      "0                           9dlvndqbddghpxc\n",
      "1                 rtkrbtthree8sixfoureight6\n",
      "2    fdxrqmfxdkstpmcj7lmphgsmqqnmjrtwo3tcbc\n",
      "3  onetjcsmgk57nvmkvcvkdtqtsksgpchsfsjzkkmb\n",
      "4                     six8threepvlxttc85two\n"
     ]
    }
   ],
   "source": [
    "df = pd.read_csv('input1.txt', delim_whitespace=True, header=None)\n",
    "df.columns = ['calibration_value']\n",
    "print(df.head())"
   ]
  },
  {
   "cell_type": "code",
   "execution_count": null,
   "metadata": {},
   "outputs": [],
   "source": [
    "def first_last_digit(s):\n",
    "    digits = re.findall(r'\\d', s)\n",
    "    \n",
    "    if digits:\n",
    "        return digits[0] + (digits[-1] if len(digits) > 1 else digits[0])\n",
    "    else:\n",
    "        return None, None\n",
    "\n",
    "df['concatenated_digits'] = df['calibration_value'].apply(first_last_digit)\n",
    "\n",
    "pd.set_option('display.max_rows', None)\n",
    "print(df.head(10))"
   ]
  },
  {
   "cell_type": "code",
   "execution_count": null,
   "metadata": {},
   "outputs": [],
   "source": [
    "df['concatenated_digits'] = pd.to_numeric(df['concatenated_digits'], errors='coerce')\n",
    "total_sum = df['concatenated_digits'].sum()\n",
    "total_sum"
   ]
  },
  {
   "cell_type": "markdown",
   "metadata": {},
   "source": [
    "**PART 2**"
   ]
  },
  {
   "cell_type": "code",
   "execution_count": null,
   "metadata": {},
   "outputs": [],
   "source": [
    "df2 = pd.read_csv('input1.txt', delim_whitespace=True, header=None)\n",
    "df2.columns = ['calibration_value']\n",
    "print(df2.head())"
   ]
  },
  {
   "cell_type": "code",
   "execution_count": null,
   "metadata": {},
   "outputs": [],
   "source": [
    "# List of spelled out numbers\n",
    "numbers = [\"zero\", \"one\", \"two\", \"three\", \"four\", \"five\", \"six\", \"seven\", \"eight\", \"nine\"]\n",
    "\n",
    "# Initialize an empty list to store combinations\n",
    "combinations = []\n",
    "\n",
    "# Iterate through the numbers\n",
    "for i in range(len(numbers)):\n",
    "    for j in range(len(numbers)):\n",
    "        num1 = numbers[i]\n",
    "        num2 = numbers[j]\n",
    "        \n",
    "        # Check if the first letter of num1 matches the last letter of num2\n",
    "        if num1[0] == num2[-1] and i != j:  # Ensure it's not the same number\n",
    "            combinations.append((num1, num2))\n",
    "\n",
    "# Print the combinations\n",
    "for combo in combinations:\n",
    "    print(combo)\n",
    "\n"
   ]
  },
  {
   "cell_type": "markdown",
   "metadata": {},
   "source": [
    "Possible Combinations of Spelled Out Digits with Shared First/Last Letters\n",
    "- zerone\n",
    "- oneight\n",
    "- twone\n",
    "- threeight\n",
    "- fiveight\n",
    "- sevenine\n",
    "- eighthree\n",
    "- eightwo\n",
    "- nineight"
   ]
  },
  {
   "cell_type": "code",
   "execution_count": null,
   "metadata": {},
   "outputs": [],
   "source": [
    "# Define replacements using regular expressions\n",
    "replacements = {\n",
    "    'zerone': 'zeroone',\n",
    "    'oneight': 'oneeight',\n",
    "    'twone': 'twoone',\n",
    "    'threeight': 'threeeight',\n",
    "    'fiveight': 'fiveeight',\n",
    "    'sevenine': 'sevennine',\n",
    "    'eighthree': 'eightthree',\n",
    "    'eightwo': 'eighttwo',\n",
    "    'nineight': 'nineeight'\n",
    "}\n",
    "\n",
    "# Use str.replace() with regular expressions\n",
    "for pattern, replacement in replacements.items():\n",
    "    df2['calibration_value'] = df2['calibration_value'].str.replace(pattern, replacement)\n",
    "\n",
    "# Display the updated DataFrame\n",
    "pd.set_option('display.max_rows', None)\n",
    "print(df2.head(10))\n"
   ]
  },
  {
   "cell_type": "code",
   "execution_count": null,
   "metadata": {},
   "outputs": [],
   "source": [
    "def replace_spelled_numbers(s):\n",
    "    # Dictionary mapping spelled-out numbers to digits\n",
    "    number_dict = {\n",
    "        'zero': '0', 'one': '1', 'two': '2', 'three': '3', \n",
    "        'four': '4', 'five': '5', 'six': '6', 'seven': '7',\n",
    "        'eight': '8', 'nine': '9'\n",
    "    }\n",
    "\n",
    "    # Replace each spelled-out number with its corresponding digit\n",
    "    for word, number in number_dict.items():\n",
    "        s = s.replace(word, number)\n",
    "    \n",
    "    return s\n",
    "\n",
    "    \n",
    "\n",
    "df2['calibration_value'] = df2['calibration_value'].apply(lambda x: replace_spelled_numbers(x))\n",
    "pd.set_option('display.max_rows', None)\n",
    "print(df2.head(10))"
   ]
  },
  {
   "cell_type": "code",
   "execution_count": null,
   "metadata": {},
   "outputs": [],
   "source": [
    "def first_last_digit(s):\n",
    "    digits = re.findall(r'\\d', s)\n",
    "    \n",
    "    if digits:\n",
    "        return digits[0] + (digits[-1] if len(digits) > 1 else digits[0])\n",
    "    else:\n",
    "        return None, None\n",
    "\n",
    "# Apply the function to each row\n",
    "df2['concatenated_digits'] = df2['calibration_value'].apply(first_last_digit)\n",
    "\n",
    "pd.set_option('display.max_rows', None)\n",
    "print(df2.head(10))"
   ]
  },
  {
   "cell_type": "code",
   "execution_count": null,
   "metadata": {},
   "outputs": [],
   "source": [
    "df2['concatenated_digits'] = pd.to_numeric(df2['concatenated_digits'], errors='coerce')\n",
    "total_sum = df2['concatenated_digits'].sum()\n",
    "total_sum"
   ]
  }
 ],
 "metadata": {
  "kernelspec": {
   "display_name": "da1",
   "language": "python",
   "name": "python3"
  },
  "language_info": {
   "codemirror_mode": {
    "name": "ipython",
    "version": 3
   },
   "file_extension": ".py",
   "mimetype": "text/x-python",
   "name": "python",
   "nbconvert_exporter": "python",
   "pygments_lexer": "ipython3",
   "version": "3.11.5"
  }
 },
 "nbformat": 4,
 "nbformat_minor": 2
}
