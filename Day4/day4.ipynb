{
 "cells": [
  {
   "cell_type": "code",
   "execution_count": 1,
   "metadata": {},
   "outputs": [],
   "source": [
    "import pandas as pd\n",
    "import re"
   ]
  },
  {
   "cell_type": "code",
   "execution_count": 2,
   "metadata": {},
   "outputs": [
    {
     "name": "stdout",
     "output_type": "stream",
     "text": [
      "     0   1   2   3   4   5   6   7   8   9   ...  28  29  30  31  32  33  34  \\\n",
      "0  Card  1:  30  48  49  69   1  86  94  68  ...  45  69  92  62   4  94  48   \n",
      "1  Card  2:  57  32  92  73  76  62  11  19  ...  99   4  32  33  64  34  62   \n",
      "2  Card  3:   6  56  40   1  47  26  25  87  ...  23  47   7  49  17   1  56   \n",
      "3  Card  4:  26  49  44  82  25  43  47  74  ...  43   7  18   9  45  97  15   \n",
      "4  Card  5:  88  58  96  80  56  16  55  13  ...  75  93  46  19  69  25  31   \n",
      "\n",
      "   35  36  37  \n",
      "0  47  64  49  \n",
      "1  27  78  65  \n",
      "2  92  87  40  \n",
      "3  90  85  74  \n",
      "4  58  45  47  \n",
      "\n",
      "[5 rows x 38 columns]\n"
     ]
    }
   ],
   "source": [
    "df = pd.read_csv('input_day4.txt', delim_whitespace=True, header=None)\n",
    "print(df.head())"
   ]
  }
 ],
 "metadata": {
  "kernelspec": {
   "display_name": "data_sci_1",
   "language": "python",
   "name": "python3"
  },
  "language_info": {
   "codemirror_mode": {
    "name": "ipython",
    "version": 3
   },
   "file_extension": ".py",
   "mimetype": "text/x-python",
   "name": "python",
   "nbconvert_exporter": "python",
   "pygments_lexer": "ipython3",
   "version": "3.11.5"
  }
 },
 "nbformat": 4,
 "nbformat_minor": 2
}
