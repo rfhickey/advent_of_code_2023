{
 "cells": [
  {
   "cell_type": "code",
   "execution_count": null,
   "metadata": {},
   "outputs": [],
   "source": [
    "import pandas as pd\n",
    "import re"
   ]
  },
  {
   "cell_type": "code",
   "execution_count": null,
   "metadata": {},
   "outputs": [],
   "source": [
    "df = pd.read_csv('input_day4.txt', delim_whitespace=True, header=None)\n",
    "\n",
    "pd.set_option('display.max_columns', None)  \n",
    "pd.set_option('display.max_rows', None)    \n",
    "pd.set_option('display.width', 1000)       \n",
    "pd.set_option('display.max_colwidth', None) \n",
    "\n",
    "print(df.head(10))"
   ]
  },
  {
   "cell_type": "code",
   "execution_count": null,
   "metadata": {},
   "outputs": [],
   "source": [
    "def count_matches(row):\n",
    "    if '|' in row:\n",
    "        left, right = row.split('|')\n",
    "        # Convert the split strings to integers\n",
    "        left_numbers = list(map(int, left.strip().split()))\n",
    "        right_numbers = list(map(int, right.strip().split()))\n",
    "\n",
    "        # Count the matches\n",
    "        return sum(num in right_numbers for num in left_numbers)\n",
    "    else:\n",
    "        # Return 0 if the pipe symbol is not found\n",
    "        return 0\n",
    "\n",
    "\n",
    "# Set display options for pandas\n",
    "pd.set_option('display.max_columns', None)  # Show all columns\n",
    "pd.set_option('display.max_rows', None)     # Show all rows\n",
    "pd.set_option('display.width', 1000)        # Set display width\n",
    "pd.set_option('display.max_colwidth', None) # Show full content of each column\n",
    "\n",
    "# Display the DataFrame\n",
    "display(df.head(10))\n"
   ]
  },
  {
   "cell_type": "code",
   "execution_count": null,
   "metadata": {},
   "outputs": [],
   "source": [
    "def count_matches(row):\n",
    "   \n",
    "    left_values = row.iloc[2:12].values\n",
    "\n",
    "\n",
    "    right_values = row.iloc[13:38].values\n",
    "\n",
    "    return sum(value in right_values for value in left_values)\n",
    "\n",
    "df['Match Count'] = df.apply(count_matches, axis=1)\n",
    "\n",
    "display(df.head(10))"
   ]
  },
  {
   "cell_type": "code",
   "execution_count": null,
   "metadata": {},
   "outputs": [],
   "source": [
    "def double_number(input_number):\n",
    "  \n",
    "    return int(1 * (2 ** (input_number - 1)))\n",
    "\n",
    "result = df['Match Count'].apply(double_number)\n",
    "\n",
    "print(result.head(10))\n"
   ]
  },
  {
   "cell_type": "code",
   "execution_count": null,
   "metadata": {},
   "outputs": [],
   "source": [
    "\n",
    "total_sum = result.sum()\n",
    "\n",
    "print(total_sum)"
   ]
  },
  {
   "cell_type": "markdown",
   "metadata": {},
   "source": [
    "## Part 2"
   ]
  },
  {
   "cell_type": "code",
   "execution_count": null,
   "metadata": {},
   "outputs": [],
   "source": [
    "import pandas as pd\n",
    "import re\n",
    "\n",
    "df2 = pd.read_csv('input_day4.txt', delim_whitespace=True, header=None)\n",
    "print(df2.head())"
   ]
  },
  {
   "cell_type": "code",
   "execution_count": null,
   "metadata": {},
   "outputs": [],
   "source": [
    "def count_matches(row):\n",
    "    if '|' in row:\n",
    "        left, right = row.split('|')\n",
    "      \n",
    "        left_numbers = list(map(int, left.strip().split()))\n",
    "        right_numbers = list(map(int, right.strip().split()))\n",
    "\n",
    "     \n",
    "        return sum(num in right_numbers for num in left_numbers)\n",
    "    else:\n",
    "      \n",
    "        return 0\n",
    "\n",
    "pd.set_option('display.max_columns', None)  \n",
    "pd.set_option('display.max_rows', None)    \n",
    "pd.set_option('display.width', 1000)       \n",
    "pd.set_option('display.max_colwidth', None) \n",
    "\n",
    "\n",
    "display(df2.head(10))"
   ]
  },
  {
   "cell_type": "code",
   "execution_count": null,
   "metadata": {},
   "outputs": [],
   "source": [
    "def count_matches(row):\n",
    "  \n",
    "    left_values = row.iloc[2:12].values\n",
    "\n",
    "  \n",
    "    right_values = row.iloc[13:38].values\n",
    "\n",
    "\n",
    "    return sum(value in right_values for value in left_values)\n",
    "\n",
    "\n",
    "df2['match_count'] = df2.apply(count_matches, axis=1)\n",
    "\n",
    "\n",
    "display(df2.head(10))"
   ]
  },
  {
   "cell_type": "code",
   "execution_count": null,
   "metadata": {},
   "outputs": [],
   "source": [
    "\n",
    "df2['number_of_card'] = 1\n",
    "\n",
    "\n",
    "for i in range(len(df2)):\n",
    " \n",
    "    original_number_of_card = df2.at[i, 'number_of_card']\n",
    "    match_count = df2.at[i, 'match_count']\n",
    "\n",
    "   \n",
    "    for j in range(i + 1, min(i + 1 + match_count, len(df2))):\n",
    "        df2.at[j, 'number_of_card'] += original_number_of_card\n",
    "\n",
    "\n",
    "display(df2.head(25))"
   ]
  },
  {
   "cell_type": "code",
   "execution_count": null,
   "metadata": {},
   "outputs": [],
   "source": [
    "# Summing the result\n",
    "total_sum = df2['number_of_card'].sum()\n",
    "\n",
    "print(total_sum)"
   ]
  }
 ],
 "metadata": {
  "kernelspec": {
   "display_name": "data_sci_1",
   "language": "python",
   "name": "python3"
  },
  "language_info": {
   "codemirror_mode": {
    "name": "ipython",
    "version": 3
   },
   "file_extension": ".py",
   "mimetype": "text/x-python",
   "name": "python",
   "nbconvert_exporter": "python",
   "pygments_lexer": "ipython3",
   "version": "3.10.12"
  }
 },
 "nbformat": 4,
 "nbformat_minor": 2
}
